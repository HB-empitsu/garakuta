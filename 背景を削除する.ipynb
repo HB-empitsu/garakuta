{
  "nbformat": 4,
  "nbformat_minor": 0,
  "metadata": {
    "colab": {
      "provenance": [],
      "authorship_tag": "ABX9TyOjK1Y76Xvblaekdsoykq03",
      "include_colab_link": true
    },
    "kernelspec": {
      "name": "python3",
      "display_name": "Python 3"
    },
    "language_info": {
      "name": "python"
    }
  },
  "cells": [
    {
      "cell_type": "markdown",
      "metadata": {
        "id": "view-in-github",
        "colab_type": "text"
      },
      "source": [
        "<a href=\"https://colab.research.google.com/github/HB-enpitsu/garakuta/blob/main/%E8%83%8C%E6%99%AF%E3%82%92%E5%89%8A%E9%99%A4%E3%81%99%E3%82%8B.ipynb\" target=\"_parent\"><img src=\"https://colab.research.google.com/assets/colab-badge.svg\" alt=\"Open In Colab\"/></a>"
      ]
    },
    {
      "cell_type": "markdown",
      "source": [
        "↑のアイコン「Open in Colab」をクリック\n",
        "\n",
        "下の手順で操作してください\n",
        "\n",
        "警告: このノートブックは Google が作成したものではありません。\n",
        "\n",
        "と表示されますが「このまま実行」で進めてください\n"
      ],
      "metadata": {
        "id": "b8t3YoOzLGYh"
      }
    },
    {
      "cell_type": "code",
      "execution_count": null,
      "metadata": {
        "id": "lCBnHrl9E5bq"
      },
      "outputs": [],
      "source": [
        "!pip install rembg[cli]"
      ]
    },
    {
      "cell_type": "code",
      "source": [
        "!mkdir input"
      ],
      "metadata": {
        "id": "yFSQEEEWKKwl"
      },
      "execution_count": null,
      "outputs": []
    },
    {
      "cell_type": "code",
      "source": [
        "!mkdir output"
      ],
      "metadata": {
        "id": "Wk90wYKaKO8w"
      },
      "execution_count": null,
      "outputs": []
    },
    {
      "cell_type": "markdown",
      "source": [
        "1. ここにカーソルに合わせてからCtrl+F8でより「前のセルを実行」　※警告表示、このまま実行\n",
        "2. 左側のファイルの更新を押してフォルダ更新\n",
        "3. inputのフォルダに画像をアップロード（フォルダに合わせて三点リーダーをクリック）\n",
        "4. Ctrl+F10で「以降のセルを実行」\n",
        "5. outputのフォルダに変換済みの画像があるのでダウンロードする"
      ],
      "metadata": {
        "id": "oaYM6I3LLPWP"
      }
    },
    {
      "cell_type": "code",
      "source": [
        "!rembg p /content/input /content/output"
      ],
      "metadata": {
        "id": "__gH_hRCFQmG"
      },
      "execution_count": null,
      "outputs": []
    }
  ]
}